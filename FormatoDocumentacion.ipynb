{
 "cells": [
  {
   "cell_type": "markdown",
   "id": "8769b68a-82b2-4b07-a107-482de8257176",
   "metadata": {},
   "source": [
    "# INDICE\n",
    "1. [Conceptos generales](#1.-Conceptos-generales)\n",
    "2. [Tema1](#2.-Tema1)  \n",
    "    2.1. [Subtitulo de tema1](#2.1.-Subtitulo-de-tema1)\n",
    "3. [Tema2](#3.-Tema2)  \n",
    "    3.1. [Subtitulo de tema2](#3.1.-Subtitulo-de-tema2)  \n",
    "    3.1.1. [Subsubtitulo de tema2](#3.1.1.-Subsubtitulo-de-tema2)\n",
    "4. [Referencias](#4.-Referencias)\n",
    "\n"
   ]
  },
  {
   "cell_type": "markdown",
   "id": "9586fbe7-b690-4226-a9e4-ee0e0072c094",
   "metadata": {},
   "source": [
    "# Tema Principal\n",
    "Tema Principal estudia el..."
   ]
  },
  {
   "cell_type": "markdown",
   "id": "f37d4c47-840f-440f-a2b3-ca98576a780e",
   "metadata": {},
   "source": [
    "## [1. Conceptos generales](#INDICE)"
   ]
  },
  {
   "cell_type": "markdown",
   "id": "915aedc4-750b-4162-9f09-d1542fa92502",
   "metadata": {},
   "source": [
    "## [2. Tema1](#INDICE)"
   ]
  },
  {
   "cell_type": "markdown",
   "id": "ef9cf2e9-3fcf-4f6c-8ec1-f68ea44e2b32",
   "metadata": {},
   "source": [
    "### [2.1. Subtitulo de tema1](#INDICE)"
   ]
  },
  {
   "cell_type": "markdown",
   "id": "97191fbc-a1aa-49b3-9a85-884fb48bd1bf",
   "metadata": {},
   "source": [
    "## [3. Tema2](#INDICE)"
   ]
  },
  {
   "cell_type": "markdown",
   "id": "03447d0b-3542-4e15-a089-08abc19f4a79",
   "metadata": {},
   "source": [
    "### [3.1. Subtitulo de tema2](#INDICE)"
   ]
  },
  {
   "cell_type": "markdown",
   "id": "7e6a32e7-18d2-4f4f-b940-a0434736422d",
   "metadata": {},
   "source": [
    "#### [3.1.1. Subsubtitulo de tema2](#INDICE)"
   ]
  },
  {
   "cell_type": "markdown",
   "id": "f0d2a28f-9af9-47bb-adba-ef52004bda0a",
   "metadata": {},
   "source": [
    "## [4. Referencias](#INDICE)\n",
    "1. [google](www.google.com)\n",
    "2. [chatgpt](https://chat.openai.com)"
   ]
  },
  {
   "cell_type": "code",
   "execution_count": null,
   "id": "5275f200-a9a2-4425-b25f-a24ab0459b19",
   "metadata": {},
   "outputs": [],
   "source": []
  }
 ],
 "metadata": {
  "kernelspec": {
   "display_name": "Python 3 (ipykernel)",
   "language": "python",
   "name": "python3"
  },
  "language_info": {
   "codemirror_mode": {
    "name": "ipython",
    "version": 3
   },
   "file_extension": ".py",
   "mimetype": "text/x-python",
   "name": "python",
   "nbconvert_exporter": "python",
   "pygments_lexer": "ipython3",
   "version": "3.11.2"
  }
 },
 "nbformat": 4,
 "nbformat_minor": 5
}
